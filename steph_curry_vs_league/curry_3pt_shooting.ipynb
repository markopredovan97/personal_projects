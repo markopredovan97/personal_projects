{
 "cells": [
  {
   "cell_type": "markdown",
   "id": "15c0df54-88bd-4183-928f-8165f9062e31",
   "metadata": {},
   "source": [
    "# Analyzing the Impact of Stephen Curry on 3-Point Shooting\n",
    "\n",
    "## Introduction\n",
    "\n",
    "The goal of this project is to analyze the impact of Stephen Curry on the NBA's adoption of the 3-point shot. We will explore how the league's 3-point attempt rate (3PAR) has changed over the years and how Curry's individual performance compares to the league average."
   ]
  },
  {
   "cell_type": "markdown",
   "id": "927594af-f9eb-4686-a021-fcfea0883669",
   "metadata": {},
   "source": [
    "Data Source:\n",
    "\n",
    "*   Basketball-Reference.com: [https://www.basketball-reference.com/](https://www.basketball-reference.com/)"
   ]
  },
  {
   "cell_type": "markdown",
   "id": "70330c2c-1842-40e9-a008-8251ecd97b79",
   "metadata": {},
   "source": [
    "## Data Cleaning"
   ]
  },
  {
   "cell_type": "markdown",
   "id": "dba4edd3-1348-4ede-a974-a0abedd4355c",
   "metadata": {},
   "source": [
    "### Cleaning League Averages\n",
    "\n",
    "This file cleans the raw data for league averages by removing unnecessary columns, handling missing values, and calculating the 3PAR for each season."
   ]
  },
  {
   "cell_type": "code",
   "execution_count": 12,
   "id": "231f0629-64fc-4bd5-adb4-79d18252d426",
   "metadata": {},
   "outputs": [],
   "source": [
    "import pandas as pd\n",
    "\n",
    "# Loading the data\n",
    "df = pd.read_csv('league_averages.csv', header=None)\n",
    "\n",
    "# Setting the second row as the header\n",
    "df.columns = df.iloc[1]\n",
    "\n",
    "# Removing the first two rows (old header and now-duplicate column names)\n",
    "df = df.iloc[2:]\n",
    "\n",
    "# Selecting only the columns we need\n",
    "df = df[['Season', '3P', '3PA', '3P%', 'FGA']]\n",
    "\n",
    "# Converting 'Season' to numeric for easier filtering\n",
    "def convert_season(season):\n",
    "  try:\n",
    "    return int(season.split('-')[0])  # Extract the first year of the season\n",
    "  except:\n",
    "    return None  # For seasons like '1950-51' that don't fit the pattern\n",
    "\n",
    "df['Season'] = df['Season'].apply(convert_season)\n",
    "df.dropna(subset=['Season'], inplace=True)  # Remove rows with invalid seasons\n",
    "\n",
    "# Filtering data for seasons after 1979 (when the 3-point line was introduced)\n",
    "df = df[df['Season'] >= 1979]\n",
    "\n",
    "# Removing the '2024-25' season as it just started.\n",
    "df = df[df['Season'] < 2024]  \n",
    "\n",
    "# Converting columns to numeric\n",
    "df['3P'] = pd.to_numeric(df['3P'])\n",
    "df['3PA'] = pd.to_numeric(df['3PA'])\n",
    "df['3P%'] = pd.to_numeric(df['3P%'])\n",
    "df['FGA'] = pd.to_numeric(df['FGA'])\n",
    "\n",
    "# Saving the cleaned DataFrame to a new CSV file\n",
    "df.to_csv('cleaned_league_averages.csv', index=False)"
   ]
  },
  {
   "cell_type": "markdown",
   "id": "af0a9f7a-065e-4031-a598-03aed47f92df",
   "metadata": {},
   "source": [
    "### Cleaning Steph Curry Averages\n",
    "\n",
    "This file cleans the raw data for Curry averages by removing unnecessary columns, handling missing values, and calculating the 3PAR for each season. I removed the 2019 season as Curry player only 5 games due to an injury."
   ]
  },
  {
   "cell_type": "code",
   "execution_count": 13,
   "id": "3dc89abb-cffa-4d64-9a57-43ae686dcbc6",
   "metadata": {},
   "outputs": [],
   "source": [
    "import pandas as pd\n",
    "\n",
    "# Loading the data\n",
    "df = pd.read_csv('steph_curry_averages.csv', header=0)  \n",
    "\n",
    "# Selecting the columns we need\n",
    "df = df[['Season', '3P', '3PA', '3P%', 'FGA']]\n",
    "\n",
    "# Converting 'Season' to numeric for easier filtering\n",
    "def convert_season(season):\n",
    "  try:\n",
    "    return int(season.split('-')[0]) \n",
    "  except:\n",
    "    return None  # For seasons like '1950-51' that don't fit the pattern\n",
    "\n",
    "df['Season'] = df['Season'].apply(convert_season)\n",
    "df.dropna(subset=['Season'], inplace=True)  # Remove rows with invalid seasons\n",
    "df['Season'] = df['Season'].astype(int)  # Convert to integer explicitly\n",
    "# Remove the '2024-25' season\n",
    "df = df[df['Season'] < 2024]  # Keep seasons before 2024\n",
    "df = df[df['Season'] != 2019] # Remove 2019 season as Curry played only 5 games due to injury.\n",
    "\n",
    "# Converting columns to numeric\n",
    "df['3P'] = pd.to_numeric(df['3P'])\n",
    "df['3PA'] = pd.to_numeric(df['3PA'])\n",
    "df['3P%'] = pd.to_numeric(df['3P%'])\n",
    "df['FGA'] = pd.to_numeric(df['FGA'])\n",
    "\n",
    "# Reverse the order of the DataFrame based on the 'Season' column\n",
    "df = df.sort_values(by='Season', ascending=False)\n",
    "\n",
    "# Saving the cleaned DataFrame to a new CSV file\n",
    "df.to_csv('cleaned_steph_curry_averages.csv', index=False)"
   ]
  },
  {
   "cell_type": "markdown",
   "id": "de337b2c-65b6-4d85-9fb7-95eda8b472aa",
   "metadata": {},
   "source": [
    "## Data analysis"
   ]
  },
  {
   "cell_type": "code",
   "execution_count": 5,
   "id": "de5987e2-bef7-4df3-b119-def078df68f7",
   "metadata": {},
   "outputs": [],
   "source": [
    "import pandas as pd\n",
    "import altair as alt\n",
    "from scipy import stats"
   ]
  },
  {
   "cell_type": "code",
   "execution_count": 14,
   "id": "28914c49-c787-4c8a-8356-4b9b48e23008",
   "metadata": {},
   "outputs": [],
   "source": [
    "# Loading the cleaned datasets\n",
    "league_avg_df = pd.read_csv('cleaned_league_averages.csv')\n",
    "curry_df = pd.read_csv('cleaned_steph_curry_averages.csv')\n",
    "\n",
    "# Merging the DataFrames on the 'Season' column\n",
    "merged_df = pd.merge(league_avg_df, curry_df, on='Season', suffixes=('_league', '_curry'))\n",
    "\n",
    "# Calculating 3PAR for the league and Curry\n",
    "merged_df['3PAR_league'] = merged_df['3PA_league'] / merged_df['FGA_league']\n",
    "merged_df['3PAR_curry'] = merged_df['3PA_curry'] / merged_df['FGA_curry']"
   ]
  },
  {
   "cell_type": "code",
   "execution_count": 15,
   "id": "06d1eb9a-bbc2-4b1e-ab92-f24ed081380f",
   "metadata": {},
   "outputs": [
    {
     "data": {
      "text/html": [
       "\n",
       "<style>\n",
       "  #altair-viz-c5aaf2e89c814250aac8961fa669959d.vega-embed {\n",
       "    width: 100%;\n",
       "    display: flex;\n",
       "  }\n",
       "\n",
       "  #altair-viz-c5aaf2e89c814250aac8961fa669959d.vega-embed details,\n",
       "  #altair-viz-c5aaf2e89c814250aac8961fa669959d.vega-embed details summary {\n",
       "    position: relative;\n",
       "  }\n",
       "</style>\n",
       "<div id=\"altair-viz-c5aaf2e89c814250aac8961fa669959d\"></div>\n",
       "<script type=\"text/javascript\">\n",
       "  var VEGA_DEBUG = (typeof VEGA_DEBUG == \"undefined\") ? {} : VEGA_DEBUG;\n",
       "  (function(spec, embedOpt){\n",
       "    let outputDiv = document.currentScript.previousElementSibling;\n",
       "    if (outputDiv.id !== \"altair-viz-c5aaf2e89c814250aac8961fa669959d\") {\n",
       "      outputDiv = document.getElementById(\"altair-viz-c5aaf2e89c814250aac8961fa669959d\");\n",
       "    }\n",
       "    const paths = {\n",
       "      \"vega\": \"https://cdn.jsdelivr.net/npm/vega@5?noext\",\n",
       "      \"vega-lib\": \"https://cdn.jsdelivr.net/npm/vega-lib?noext\",\n",
       "      \"vega-lite\": \"https://cdn.jsdelivr.net/npm/vega-lite@5.20.1?noext\",\n",
       "      \"vega-embed\": \"https://cdn.jsdelivr.net/npm/vega-embed@6?noext\",\n",
       "    };\n",
       "\n",
       "    function maybeLoadScript(lib, version) {\n",
       "      var key = `${lib.replace(\"-\", \"\")}_version`;\n",
       "      return (VEGA_DEBUG[key] == version) ?\n",
       "        Promise.resolve(paths[lib]) :\n",
       "        new Promise(function(resolve, reject) {\n",
       "          var s = document.createElement('script');\n",
       "          document.getElementsByTagName(\"head\")[0].appendChild(s);\n",
       "          s.async = true;\n",
       "          s.onload = () => {\n",
       "            VEGA_DEBUG[key] = version;\n",
       "            return resolve(paths[lib]);\n",
       "          };\n",
       "          s.onerror = () => reject(`Error loading script: ${paths[lib]}`);\n",
       "          s.src = paths[lib];\n",
       "        });\n",
       "    }\n",
       "\n",
       "    function showError(err) {\n",
       "      outputDiv.innerHTML = `<div class=\"error\" style=\"color:red;\">${err}</div>`;\n",
       "      throw err;\n",
       "    }\n",
       "\n",
       "    function displayChart(vegaEmbed) {\n",
       "      vegaEmbed(outputDiv, spec, embedOpt)\n",
       "        .catch(err => showError(`Javascript Error: ${err.message}<br>This usually means there's a typo in your chart specification. See the javascript console for the full traceback.`));\n",
       "    }\n",
       "\n",
       "    if(typeof define === \"function\" && define.amd) {\n",
       "      requirejs.config({paths});\n",
       "      require([\"vega-embed\"], displayChart, err => showError(`Error loading script: ${err.message}`));\n",
       "    } else {\n",
       "      maybeLoadScript(\"vega\", \"5\")\n",
       "        .then(() => maybeLoadScript(\"vega-lite\", \"5.20.1\"))\n",
       "        .then(() => maybeLoadScript(\"vega-embed\", \"6\"))\n",
       "        .catch(showError)\n",
       "        .then(() => displayChart(vegaEmbed));\n",
       "    }\n",
       "  })({\"config\": {\"view\": {\"continuousWidth\": 300, \"continuousHeight\": 300}}, \"layer\": [{\"mark\": {\"type\": \"line\", \"point\": true}, \"encoding\": {\"color\": {\"value\": \"blue\"}, \"tooltip\": [{\"field\": \"Season\", \"type\": \"quantitative\"}, {\"field\": \"3PAR_league\", \"type\": \"quantitative\"}], \"x\": {\"field\": \"Season\", \"type\": \"ordinal\"}, \"y\": {\"field\": \"3PAR_league\", \"title\": \"3-Point Attempt Rate (3PAR)\", \"type\": \"quantitative\"}}, \"name\": \"view_2\", \"title\": \"League 3PAR Over Seasons\"}, {\"mark\": {\"type\": \"line\", \"point\": true}, \"encoding\": {\"color\": {\"value\": \"orange\"}, \"tooltip\": [{\"field\": \"Season\", \"type\": \"quantitative\"}, {\"field\": \"3PAR_curry\", \"type\": \"quantitative\"}], \"x\": {\"field\": \"Season\", \"type\": \"ordinal\"}, \"y\": {\"field\": \"3PAR_curry\", \"title\": \"3-Point Attempt Rate (3PAR)\", \"type\": \"quantitative\"}}, \"title\": \"Curry 3PAR Over Seasons\"}], \"data\": {\"name\": \"data-e5f7cc2fbd0f21d068fd48b47855e100\"}, \"params\": [{\"name\": \"param_4\", \"select\": {\"type\": \"interval\", \"encodings\": [\"x\", \"y\"]}, \"bind\": \"scales\", \"views\": [\"view_2\"]}], \"$schema\": \"https://vega.github.io/schema/vega-lite/v5.20.1.json\", \"datasets\": {\"data-e5f7cc2fbd0f21d068fd48b47855e100\": [{\"Season\": 2023, \"3P_league\": 12.8, \"3PA_league\": 35.1, \"3P%_league\": 0.366, \"FGA_league\": 88.9, \"3P_curry\": 4.8, \"3PA_curry\": 11.8, \"3P%_curry\": 0.408, \"FGA_curry\": 19.5, \"3PAR_league\": 0.3948256467941507, \"3PAR_curry\": 0.6051282051282052}, {\"Season\": 2022, \"3P_league\": 12.3, \"3PA_league\": 34.2, \"3P%_league\": 0.361, \"FGA_league\": 88.3, \"3P_curry\": 4.9, \"3PA_curry\": 11.4, \"3P%_curry\": 0.427, \"FGA_curry\": 20.2, \"3PAR_league\": 0.38731596828992076, \"3PAR_curry\": 0.5643564356435644}, {\"Season\": 2021, \"3P_league\": 12.4, \"3PA_league\": 35.2, \"3P%_league\": 0.354, \"FGA_league\": 88.1, \"3P_curry\": 4.5, \"3PA_curry\": 11.7, \"3P%_curry\": 0.38, \"FGA_curry\": 19.1, \"3PAR_league\": 0.39954597048808177, \"3PAR_curry\": 0.6125654450261779}, {\"Season\": 2020, \"3P_league\": 12.7, \"3PA_league\": 34.6, \"3P%_league\": 0.367, \"FGA_league\": 88.4, \"3P_curry\": 5.3, \"3PA_curry\": 12.7, \"3P%_curry\": 0.421, \"FGA_curry\": 21.7, \"3PAR_league\": 0.3914027149321267, \"3PAR_curry\": 0.5852534562211982}, {\"Season\": 2018, \"3P_league\": 11.4, \"3PA_league\": 32.0, \"3P%_league\": 0.355, \"FGA_league\": 89.2, \"3P_curry\": 5.1, \"3PA_curry\": 11.7, \"3P%_curry\": 0.437, \"FGA_curry\": 19.4, \"3PAR_league\": 0.35874439461883406, \"3PAR_curry\": 0.6030927835051546}, {\"Season\": 2017, \"3P_league\": 10.5, \"3PA_league\": 29.0, \"3P%_league\": 0.362, \"FGA_league\": 86.1, \"3P_curry\": 4.2, \"3PA_curry\": 9.8, \"3P%_curry\": 0.423, \"FGA_curry\": 16.9, \"3PAR_league\": 0.33681765389082463, \"3PAR_curry\": 0.5798816568047338}, {\"Season\": 2016, \"3P_league\": 9.7, \"3PA_league\": 27.0, \"3P%_league\": 0.358, \"FGA_league\": 85.4, \"3P_curry\": 4.1, \"3PA_curry\": 10.0, \"3P%_curry\": 0.411, \"FGA_curry\": 18.3, \"3PAR_league\": 0.31615925058548006, \"3PAR_curry\": 0.5464480874316939}, {\"Season\": 2015, \"3P_league\": 8.5, \"3PA_league\": 24.1, \"3P%_league\": 0.354, \"FGA_league\": 84.6, \"3P_curry\": 5.1, \"3PA_curry\": 11.2, \"3P%_curry\": 0.454, \"FGA_curry\": 20.2, \"3PAR_league\": 0.2848699763593381, \"3PAR_curry\": 0.5544554455445544}, {\"Season\": 2014, \"3P_league\": 7.8, \"3PA_league\": 22.4, \"3P%_league\": 0.35, \"FGA_league\": 83.6, \"3P_curry\": 3.6, \"3PA_curry\": 8.1, \"3P%_curry\": 0.443, \"FGA_curry\": 16.8, \"3PAR_league\": 0.2679425837320574, \"3PAR_curry\": 0.4821428571428571}, {\"Season\": 2013, \"3P_league\": 7.7, \"3PA_league\": 21.5, \"3P%_league\": 0.36, \"FGA_league\": 83.0, \"3P_curry\": 3.3, \"3PA_curry\": 7.9, \"3P%_curry\": 0.424, \"FGA_curry\": 17.7, \"3PAR_league\": 0.25903614457831325, \"3PAR_curry\": 0.44632768361581926}, {\"Season\": 2012, \"3P_league\": 7.2, \"3PA_league\": 20.0, \"3P%_league\": 0.359, \"FGA_league\": 82.0, \"3P_curry\": 3.5, \"3PA_curry\": 7.7, \"3P%_curry\": 0.453, \"FGA_curry\": 17.8, \"3PAR_league\": 0.24390243902439024, \"3PAR_curry\": 0.43258426966292135}, {\"Season\": 2011, \"3P_league\": 6.4, \"3PA_league\": 18.4, \"3P%_league\": 0.349, \"FGA_league\": 81.4, \"3P_curry\": 2.1, \"3PA_curry\": 4.7, \"3P%_curry\": 0.455, \"FGA_curry\": 11.4, \"3PAR_league\": 0.226044226044226, \"3PAR_curry\": 0.41228070175438597}, {\"Season\": 2010, \"3P_league\": 6.5, \"3PA_league\": 18.0, \"3P%_league\": 0.358, \"FGA_league\": 81.2, \"3P_curry\": 2.0, \"3PA_curry\": 4.6, \"3P%_curry\": 0.442, \"FGA_curry\": 14.2, \"3PAR_league\": 0.22167487684729062, \"3PAR_curry\": 0.323943661971831}, {\"Season\": 2009, \"3P_league\": 6.4, \"3PA_league\": 18.1, \"3P%_league\": 0.355, \"FGA_league\": 81.7, \"3P_curry\": 2.1, \"3PA_curry\": 4.8, \"3P%_curry\": 0.437, \"FGA_curry\": 14.3, \"3PAR_league\": 0.2215422276621787, \"3PAR_curry\": 0.3356643356643356}]}}, {\"mode\": \"vega-lite\"});\n",
       "</script>"
      ],
      "text/plain": [
       "alt.LayerChart(...)"
      ]
     },
     "metadata": {},
     "output_type": "display_data"
    }
   ],
   "source": [
    "# 1. Line chart for 3PAR over seasons\n",
    "line_chart = alt.Chart(merged_df).mark_line(point=True).encode(  # Add point markers\n",
    "    x='Season:O',\n",
    "    y=alt.Y('3PAR_league:Q', title='3-Point Attempt Rate (3PAR)'),\n",
    "    color=alt.value('blue'),\n",
    "    tooltip=['Season', '3PAR_league']\n",
    ").properties(\n",
    "    title='League 3PAR Over Seasons'\n",
    ")\n",
    "\n",
    "line_chart_curry = alt.Chart(merged_df).mark_line(point=True).encode(  # Add point markers\n",
    "    x='Season:O',\n",
    "    y=alt.Y('3PAR_curry:Q', title='3-Point Attempt Rate (3PAR)'),\n",
    "    color=alt.value('orange'),\n",
    "    tooltip=['Season', '3PAR_curry']\n",
    ").properties(\n",
    "    title='Curry 3PAR Over Seasons'\n",
    ")\n",
    "\n",
    "final_line_chart = line_chart + line_chart_curry\n",
    "\n",
    "# Adding a legend interactively\n",
    "final_line_chart = final_line_chart.interactive()\n",
    "\n",
    "final_line_chart.display()"
   ]
  },
  {
   "cell_type": "code",
   "execution_count": 16,
   "id": "85c65405-4fe3-4ca2-a342-0062dd06adea",
   "metadata": {},
   "outputs": [
    {
     "data": {
      "text/html": [
       "\n",
       "<style>\n",
       "  #altair-viz-3058e53ea6fb4815a90a34762f716dd5.vega-embed {\n",
       "    width: 100%;\n",
       "    display: flex;\n",
       "  }\n",
       "\n",
       "  #altair-viz-3058e53ea6fb4815a90a34762f716dd5.vega-embed details,\n",
       "  #altair-viz-3058e53ea6fb4815a90a34762f716dd5.vega-embed details summary {\n",
       "    position: relative;\n",
       "  }\n",
       "</style>\n",
       "<div id=\"altair-viz-3058e53ea6fb4815a90a34762f716dd5\"></div>\n",
       "<script type=\"text/javascript\">\n",
       "  var VEGA_DEBUG = (typeof VEGA_DEBUG == \"undefined\") ? {} : VEGA_DEBUG;\n",
       "  (function(spec, embedOpt){\n",
       "    let outputDiv = document.currentScript.previousElementSibling;\n",
       "    if (outputDiv.id !== \"altair-viz-3058e53ea6fb4815a90a34762f716dd5\") {\n",
       "      outputDiv = document.getElementById(\"altair-viz-3058e53ea6fb4815a90a34762f716dd5\");\n",
       "    }\n",
       "    const paths = {\n",
       "      \"vega\": \"https://cdn.jsdelivr.net/npm/vega@5?noext\",\n",
       "      \"vega-lib\": \"https://cdn.jsdelivr.net/npm/vega-lib?noext\",\n",
       "      \"vega-lite\": \"https://cdn.jsdelivr.net/npm/vega-lite@5.20.1?noext\",\n",
       "      \"vega-embed\": \"https://cdn.jsdelivr.net/npm/vega-embed@6?noext\",\n",
       "    };\n",
       "\n",
       "    function maybeLoadScript(lib, version) {\n",
       "      var key = `${lib.replace(\"-\", \"\")}_version`;\n",
       "      return (VEGA_DEBUG[key] == version) ?\n",
       "        Promise.resolve(paths[lib]) :\n",
       "        new Promise(function(resolve, reject) {\n",
       "          var s = document.createElement('script');\n",
       "          document.getElementsByTagName(\"head\")[0].appendChild(s);\n",
       "          s.async = true;\n",
       "          s.onload = () => {\n",
       "            VEGA_DEBUG[key] = version;\n",
       "            return resolve(paths[lib]);\n",
       "          };\n",
       "          s.onerror = () => reject(`Error loading script: ${paths[lib]}`);\n",
       "          s.src = paths[lib];\n",
       "        });\n",
       "    }\n",
       "\n",
       "    function showError(err) {\n",
       "      outputDiv.innerHTML = `<div class=\"error\" style=\"color:red;\">${err}</div>`;\n",
       "      throw err;\n",
       "    }\n",
       "\n",
       "    function displayChart(vegaEmbed) {\n",
       "      vegaEmbed(outputDiv, spec, embedOpt)\n",
       "        .catch(err => showError(`Javascript Error: ${err.message}<br>This usually means there's a typo in your chart specification. See the javascript console for the full traceback.`));\n",
       "    }\n",
       "\n",
       "    if(typeof define === \"function\" && define.amd) {\n",
       "      requirejs.config({paths});\n",
       "      require([\"vega-embed\"], displayChart, err => showError(`Error loading script: ${err.message}`));\n",
       "    } else {\n",
       "      maybeLoadScript(\"vega\", \"5\")\n",
       "        .then(() => maybeLoadScript(\"vega-lite\", \"5.20.1\"))\n",
       "        .then(() => maybeLoadScript(\"vega-embed\", \"6\"))\n",
       "        .catch(showError)\n",
       "        .then(() => displayChart(vegaEmbed));\n",
       "    }\n",
       "  })({\"config\": {\"view\": {\"continuousWidth\": 300, \"continuousHeight\": 300}}, \"data\": {\"name\": \"data-e5f7cc2fbd0f21d068fd48b47855e100\"}, \"mark\": {\"type\": \"point\"}, \"encoding\": {\"tooltip\": [{\"field\": \"Season\", \"type\": \"quantitative\"}, {\"field\": \"3PAR_curry\", \"type\": \"quantitative\"}, {\"field\": \"3PAR_league\", \"type\": \"quantitative\"}], \"x\": {\"field\": \"3PAR_curry\", \"title\": \"Curry's 3PAR\", \"type\": \"quantitative\"}, \"y\": {\"field\": \"3PAR_league\", \"title\": \"League's 3PAR\", \"type\": \"quantitative\"}}, \"params\": [{\"name\": \"param_5\", \"select\": {\"type\": \"interval\", \"encodings\": [\"x\", \"y\"]}, \"bind\": \"scales\"}], \"title\": \"Curry's 3PAR vs. League's 3PAR\", \"$schema\": \"https://vega.github.io/schema/vega-lite/v5.20.1.json\", \"datasets\": {\"data-e5f7cc2fbd0f21d068fd48b47855e100\": [{\"Season\": 2023, \"3P_league\": 12.8, \"3PA_league\": 35.1, \"3P%_league\": 0.366, \"FGA_league\": 88.9, \"3P_curry\": 4.8, \"3PA_curry\": 11.8, \"3P%_curry\": 0.408, \"FGA_curry\": 19.5, \"3PAR_league\": 0.3948256467941507, \"3PAR_curry\": 0.6051282051282052}, {\"Season\": 2022, \"3P_league\": 12.3, \"3PA_league\": 34.2, \"3P%_league\": 0.361, \"FGA_league\": 88.3, \"3P_curry\": 4.9, \"3PA_curry\": 11.4, \"3P%_curry\": 0.427, \"FGA_curry\": 20.2, \"3PAR_league\": 0.38731596828992076, \"3PAR_curry\": 0.5643564356435644}, {\"Season\": 2021, \"3P_league\": 12.4, \"3PA_league\": 35.2, \"3P%_league\": 0.354, \"FGA_league\": 88.1, \"3P_curry\": 4.5, \"3PA_curry\": 11.7, \"3P%_curry\": 0.38, \"FGA_curry\": 19.1, \"3PAR_league\": 0.39954597048808177, \"3PAR_curry\": 0.6125654450261779}, {\"Season\": 2020, \"3P_league\": 12.7, \"3PA_league\": 34.6, \"3P%_league\": 0.367, \"FGA_league\": 88.4, \"3P_curry\": 5.3, \"3PA_curry\": 12.7, \"3P%_curry\": 0.421, \"FGA_curry\": 21.7, \"3PAR_league\": 0.3914027149321267, \"3PAR_curry\": 0.5852534562211982}, {\"Season\": 2018, \"3P_league\": 11.4, \"3PA_league\": 32.0, \"3P%_league\": 0.355, \"FGA_league\": 89.2, \"3P_curry\": 5.1, \"3PA_curry\": 11.7, \"3P%_curry\": 0.437, \"FGA_curry\": 19.4, \"3PAR_league\": 0.35874439461883406, \"3PAR_curry\": 0.6030927835051546}, {\"Season\": 2017, \"3P_league\": 10.5, \"3PA_league\": 29.0, \"3P%_league\": 0.362, \"FGA_league\": 86.1, \"3P_curry\": 4.2, \"3PA_curry\": 9.8, \"3P%_curry\": 0.423, \"FGA_curry\": 16.9, \"3PAR_league\": 0.33681765389082463, \"3PAR_curry\": 0.5798816568047338}, {\"Season\": 2016, \"3P_league\": 9.7, \"3PA_league\": 27.0, \"3P%_league\": 0.358, \"FGA_league\": 85.4, \"3P_curry\": 4.1, \"3PA_curry\": 10.0, \"3P%_curry\": 0.411, \"FGA_curry\": 18.3, \"3PAR_league\": 0.31615925058548006, \"3PAR_curry\": 0.5464480874316939}, {\"Season\": 2015, \"3P_league\": 8.5, \"3PA_league\": 24.1, \"3P%_league\": 0.354, \"FGA_league\": 84.6, \"3P_curry\": 5.1, \"3PA_curry\": 11.2, \"3P%_curry\": 0.454, \"FGA_curry\": 20.2, \"3PAR_league\": 0.2848699763593381, \"3PAR_curry\": 0.5544554455445544}, {\"Season\": 2014, \"3P_league\": 7.8, \"3PA_league\": 22.4, \"3P%_league\": 0.35, \"FGA_league\": 83.6, \"3P_curry\": 3.6, \"3PA_curry\": 8.1, \"3P%_curry\": 0.443, \"FGA_curry\": 16.8, \"3PAR_league\": 0.2679425837320574, \"3PAR_curry\": 0.4821428571428571}, {\"Season\": 2013, \"3P_league\": 7.7, \"3PA_league\": 21.5, \"3P%_league\": 0.36, \"FGA_league\": 83.0, \"3P_curry\": 3.3, \"3PA_curry\": 7.9, \"3P%_curry\": 0.424, \"FGA_curry\": 17.7, \"3PAR_league\": 0.25903614457831325, \"3PAR_curry\": 0.44632768361581926}, {\"Season\": 2012, \"3P_league\": 7.2, \"3PA_league\": 20.0, \"3P%_league\": 0.359, \"FGA_league\": 82.0, \"3P_curry\": 3.5, \"3PA_curry\": 7.7, \"3P%_curry\": 0.453, \"FGA_curry\": 17.8, \"3PAR_league\": 0.24390243902439024, \"3PAR_curry\": 0.43258426966292135}, {\"Season\": 2011, \"3P_league\": 6.4, \"3PA_league\": 18.4, \"3P%_league\": 0.349, \"FGA_league\": 81.4, \"3P_curry\": 2.1, \"3PA_curry\": 4.7, \"3P%_curry\": 0.455, \"FGA_curry\": 11.4, \"3PAR_league\": 0.226044226044226, \"3PAR_curry\": 0.41228070175438597}, {\"Season\": 2010, \"3P_league\": 6.5, \"3PA_league\": 18.0, \"3P%_league\": 0.358, \"FGA_league\": 81.2, \"3P_curry\": 2.0, \"3PA_curry\": 4.6, \"3P%_curry\": 0.442, \"FGA_curry\": 14.2, \"3PAR_league\": 0.22167487684729062, \"3PAR_curry\": 0.323943661971831}, {\"Season\": 2009, \"3P_league\": 6.4, \"3PA_league\": 18.1, \"3P%_league\": 0.355, \"FGA_league\": 81.7, \"3P_curry\": 2.1, \"3PA_curry\": 4.8, \"3P%_curry\": 0.437, \"FGA_curry\": 14.3, \"3PAR_league\": 0.2215422276621787, \"3PAR_curry\": 0.3356643356643356}]}}, {\"mode\": \"vega-lite\"});\n",
       "</script>"
      ],
      "text/plain": [
       "alt.Chart(...)"
      ]
     },
     "execution_count": 16,
     "metadata": {},
     "output_type": "execute_result"
    }
   ],
   "source": [
    "# 2. Scatter plot for Curry's 3PAR vs. League's 3PAR\n",
    "scatter_plot = alt.Chart(merged_df).mark_point().encode(\n",
    "    x=alt.X('3PAR_curry:Q', title=\"Curry's 3PAR\"),\n",
    "    y=alt.Y('3PAR_league:Q', title=\"League's 3PAR\"),\n",
    "    tooltip=['Season', '3PAR_curry', '3PAR_league']\n",
    ").properties(\n",
    "    title=\"Curry's 3PAR vs. League's 3PAR\"\n",
    ").interactive()\n",
    "scatter_plot"
   ]
  },
  {
   "cell_type": "code",
   "execution_count": 17,
   "id": "aaf20053-9f6d-4d1d-a215-864534591b7b",
   "metadata": {},
   "outputs": [
    {
     "name": "stdout",
     "output_type": "stream",
     "text": [
      "Correlation coefficient: 0.912\n",
      "Linear Regression:\n",
      "  Slope: 0.634\n",
      "  Intercept: -0.013\n",
      "  R-squared: 0.832\n",
      "  P-value: 0.000\n",
      "  Standard error: 0.082\n"
     ]
    }
   ],
   "source": [
    "# Calculating the correlation matrix\n",
    "correlation_matrix = merged_df.corr()\n",
    "\n",
    "# Extracting the correlation coefficient for the `3PAR_league` and `3PAR_curry` columns\n",
    "correlation_coefficient = correlation_matrix.loc['3PAR_league', '3PAR_curry']\n",
    "\n",
    "# Performing linear regression analysis\n",
    "slope, intercept, r_value, p_value, std_err = stats.linregress(merged_df['3PAR_curry'], merged_df['3PAR_league'])\n",
    "\n",
    "# Print the results\n",
    "print(f\"Correlation coefficient: {correlation_coefficient:.3f}\")\n",
    "print(\"Linear Regression:\")\n",
    "print(f\"  Slope: {slope:.3f}\")\n",
    "print(f\"  Intercept: {intercept:.3f}\")\n",
    "print(f\"  R-squared: {r_value**2:.3f}\")\n",
    "print(f\"  P-value: {p_value:.3f}\")\n",
    "print(f\"  Standard error: {std_err:.3f}\")"
   ]
  },
  {
   "cell_type": "markdown",
   "id": "9116cbe5-dcca-4c52-a34a-cc4badbf980c",
   "metadata": {},
   "source": [
    "The correlation coefficient is 0.917, indicating a strong positive relationship between Curry's 3PAR and the league's 3PAR.\n",
    "\n",
    "The linear regression analysis shows that Curry's 3PAR is a statistically significant predictor of the league's 3PAR, with an R-squared value of 0.841.\n",
    "\n",
    "Although we can't be absolutely certain Steph Curry caused the entire NBA to shoot more threes, we can reasonably assume that he played a large impact in showing how valuable the 3PT shot can be, speeding up the process of teams learning to emphasize it more.\n"
   ]
  },
  {
   "cell_type": "code",
   "execution_count": 18,
   "id": "7b89f9be-90eb-4cf5-b68a-aa1e3c13cb98",
   "metadata": {},
   "outputs": [
    {
     "name": "stdout",
     "output_type": "stream",
     "text": [
      "| Season   | 3P_league   | 3PA_league   | 3P%_league   | FGA_league   | 3P_curry   | 3PA_curry   | 3P%_curry   | FGA_curry   | 3PAR_league   | 3PAR_curry   | 3P%_diff   |\n",
      "|:---------|:------------|:-------------|:-------------|:-------------|:-----------|:------------|:------------|:------------|:--------------|:-------------|:-----------|\n",
      "| 2023     | 12.8        | 35.1         | 0.366        | 88.9         | 4.8        | 11.8        | 0.408       | 19.5        | 0.394826      | 0.605128     | 0.042      |\n",
      "| 2022     | 12.3        | 34.2         | 0.361        | 88.3         | 4.9        | 11.4        | 0.427       | 20.2        | 0.387316      | 0.564356     | 0.066      |\n",
      "| 2021     | 12.4        | 35.2         | 0.354        | 88.1         | 4.5        | 11.7        | 0.38        | 19.1        | 0.399546      | 0.612565     | 0.026      |\n",
      "| 2020     | 12.7        | 34.6         | 0.367        | 88.4         | 5.3        | 12.7        | 0.421       | 21.7        | 0.391403      | 0.585253     | 0.054      |\n",
      "| 2018     | 11.4        | 32           | 0.355        | 89.2         | 5.1        | 11.7        | 0.437       | 19.4        | 0.358744      | 0.603093     | 0.082      |\n"
     ]
    }
   ],
   "source": [
    "# Calculating the difference in 3-point percentage between Curry and the league average for each season\n",
    "merged_df['3P%_diff'] = merged_df['3P%_curry'] - merged_df['3P%_league']\n",
    "\n",
    "# Printing the first 5 rows of the dataframe\n",
    "print(merged_df.head().to_markdown(index=False, numalign=\"left\", stralign=\"left\"))"
   ]
  },
  {
   "cell_type": "code",
   "execution_count": 19,
   "id": "6f0152ef-ee49-4769-8c51-3546312f7243",
   "metadata": {},
   "outputs": [
    {
     "data": {
      "text/html": [
       "\n",
       "<style>\n",
       "  #altair-viz-766de83956314687b917080d9a10a756.vega-embed {\n",
       "    width: 100%;\n",
       "    display: flex;\n",
       "  }\n",
       "\n",
       "  #altair-viz-766de83956314687b917080d9a10a756.vega-embed details,\n",
       "  #altair-viz-766de83956314687b917080d9a10a756.vega-embed details summary {\n",
       "    position: relative;\n",
       "  }\n",
       "</style>\n",
       "<div id=\"altair-viz-766de83956314687b917080d9a10a756\"></div>\n",
       "<script type=\"text/javascript\">\n",
       "  var VEGA_DEBUG = (typeof VEGA_DEBUG == \"undefined\") ? {} : VEGA_DEBUG;\n",
       "  (function(spec, embedOpt){\n",
       "    let outputDiv = document.currentScript.previousElementSibling;\n",
       "    if (outputDiv.id !== \"altair-viz-766de83956314687b917080d9a10a756\") {\n",
       "      outputDiv = document.getElementById(\"altair-viz-766de83956314687b917080d9a10a756\");\n",
       "    }\n",
       "    const paths = {\n",
       "      \"vega\": \"https://cdn.jsdelivr.net/npm/vega@5?noext\",\n",
       "      \"vega-lib\": \"https://cdn.jsdelivr.net/npm/vega-lib?noext\",\n",
       "      \"vega-lite\": \"https://cdn.jsdelivr.net/npm/vega-lite@5.20.1?noext\",\n",
       "      \"vega-embed\": \"https://cdn.jsdelivr.net/npm/vega-embed@6?noext\",\n",
       "    };\n",
       "\n",
       "    function maybeLoadScript(lib, version) {\n",
       "      var key = `${lib.replace(\"-\", \"\")}_version`;\n",
       "      return (VEGA_DEBUG[key] == version) ?\n",
       "        Promise.resolve(paths[lib]) :\n",
       "        new Promise(function(resolve, reject) {\n",
       "          var s = document.createElement('script');\n",
       "          document.getElementsByTagName(\"head\")[0].appendChild(s);\n",
       "          s.async = true;\n",
       "          s.onload = () => {\n",
       "            VEGA_DEBUG[key] = version;\n",
       "            return resolve(paths[lib]);\n",
       "          };\n",
       "          s.onerror = () => reject(`Error loading script: ${paths[lib]}`);\n",
       "          s.src = paths[lib];\n",
       "        });\n",
       "    }\n",
       "\n",
       "    function showError(err) {\n",
       "      outputDiv.innerHTML = `<div class=\"error\" style=\"color:red;\">${err}</div>`;\n",
       "      throw err;\n",
       "    }\n",
       "\n",
       "    function displayChart(vegaEmbed) {\n",
       "      vegaEmbed(outputDiv, spec, embedOpt)\n",
       "        .catch(err => showError(`Javascript Error: ${err.message}<br>This usually means there's a typo in your chart specification. See the javascript console for the full traceback.`));\n",
       "    }\n",
       "\n",
       "    if(typeof define === \"function\" && define.amd) {\n",
       "      requirejs.config({paths});\n",
       "      require([\"vega-embed\"], displayChart, err => showError(`Error loading script: ${err.message}`));\n",
       "    } else {\n",
       "      maybeLoadScript(\"vega\", \"5\")\n",
       "        .then(() => maybeLoadScript(\"vega-lite\", \"5.20.1\"))\n",
       "        .then(() => maybeLoadScript(\"vega-embed\", \"6\"))\n",
       "        .catch(showError)\n",
       "        .then(() => displayChart(vegaEmbed));\n",
       "    }\n",
       "  })({\"config\": {\"view\": {\"continuousWidth\": 300, \"continuousHeight\": 300}}, \"data\": {\"name\": \"data-21bf6cf365ebc16a9508e7f947c03157\"}, \"mark\": {\"type\": \"bar\"}, \"encoding\": {\"color\": {\"value\": \"purple\"}, \"tooltip\": [{\"field\": \"Season\", \"type\": \"quantitative\"}, {\"field\": \"3P%_diff\", \"type\": \"quantitative\"}], \"x\": {\"field\": \"Season\", \"type\": \"ordinal\"}, \"y\": {\"field\": \"3P%_diff\", \"title\": \"Difference in 3-Point Percentage\", \"type\": \"quantitative\"}}, \"params\": [{\"name\": \"param_6\", \"select\": {\"type\": \"interval\", \"encodings\": [\"x\", \"y\"]}, \"bind\": \"scales\"}], \"title\": \"Difference in 3-Point Percentage (Curry - League)\", \"$schema\": \"https://vega.github.io/schema/vega-lite/v5.20.1.json\", \"datasets\": {\"data-21bf6cf365ebc16a9508e7f947c03157\": [{\"Season\": 2023, \"3P_league\": 12.8, \"3PA_league\": 35.1, \"3P%_league\": 0.366, \"FGA_league\": 88.9, \"3P_curry\": 4.8, \"3PA_curry\": 11.8, \"3P%_curry\": 0.408, \"FGA_curry\": 19.5, \"3PAR_league\": 0.3948256467941507, \"3PAR_curry\": 0.6051282051282052, \"3P%_diff\": 0.04199999999999998}, {\"Season\": 2022, \"3P_league\": 12.3, \"3PA_league\": 34.2, \"3P%_league\": 0.361, \"FGA_league\": 88.3, \"3P_curry\": 4.9, \"3PA_curry\": 11.4, \"3P%_curry\": 0.427, \"FGA_curry\": 20.2, \"3PAR_league\": 0.38731596828992076, \"3PAR_curry\": 0.5643564356435644, \"3P%_diff\": 0.066}, {\"Season\": 2021, \"3P_league\": 12.4, \"3PA_league\": 35.2, \"3P%_league\": 0.354, \"FGA_league\": 88.1, \"3P_curry\": 4.5, \"3PA_curry\": 11.7, \"3P%_curry\": 0.38, \"FGA_curry\": 19.1, \"3PAR_league\": 0.39954597048808177, \"3PAR_curry\": 0.6125654450261779, \"3P%_diff\": 0.026000000000000023}, {\"Season\": 2020, \"3P_league\": 12.7, \"3PA_league\": 34.6, \"3P%_league\": 0.367, \"FGA_league\": 88.4, \"3P_curry\": 5.3, \"3PA_curry\": 12.7, \"3P%_curry\": 0.421, \"FGA_curry\": 21.7, \"3PAR_league\": 0.3914027149321267, \"3PAR_curry\": 0.5852534562211982, \"3P%_diff\": 0.05399999999999999}, {\"Season\": 2018, \"3P_league\": 11.4, \"3PA_league\": 32.0, \"3P%_league\": 0.355, \"FGA_league\": 89.2, \"3P_curry\": 5.1, \"3PA_curry\": 11.7, \"3P%_curry\": 0.437, \"FGA_curry\": 19.4, \"3PAR_league\": 0.35874439461883406, \"3PAR_curry\": 0.6030927835051546, \"3P%_diff\": 0.08200000000000002}, {\"Season\": 2017, \"3P_league\": 10.5, \"3PA_league\": 29.0, \"3P%_league\": 0.362, \"FGA_league\": 86.1, \"3P_curry\": 4.2, \"3PA_curry\": 9.8, \"3P%_curry\": 0.423, \"FGA_curry\": 16.9, \"3PAR_league\": 0.33681765389082463, \"3PAR_curry\": 0.5798816568047338, \"3P%_diff\": 0.061}, {\"Season\": 2016, \"3P_league\": 9.7, \"3PA_league\": 27.0, \"3P%_league\": 0.358, \"FGA_league\": 85.4, \"3P_curry\": 4.1, \"3PA_curry\": 10.0, \"3P%_curry\": 0.411, \"FGA_curry\": 18.3, \"3PAR_league\": 0.31615925058548006, \"3PAR_curry\": 0.5464480874316939, \"3P%_diff\": 0.05299999999999999}, {\"Season\": 2015, \"3P_league\": 8.5, \"3PA_league\": 24.1, \"3P%_league\": 0.354, \"FGA_league\": 84.6, \"3P_curry\": 5.1, \"3PA_curry\": 11.2, \"3P%_curry\": 0.454, \"FGA_curry\": 20.2, \"3PAR_league\": 0.2848699763593381, \"3PAR_curry\": 0.5544554455445544, \"3P%_diff\": 0.10000000000000003}, {\"Season\": 2014, \"3P_league\": 7.8, \"3PA_league\": 22.4, \"3P%_league\": 0.35, \"FGA_league\": 83.6, \"3P_curry\": 3.6, \"3PA_curry\": 8.1, \"3P%_curry\": 0.443, \"FGA_curry\": 16.8, \"3PAR_league\": 0.2679425837320574, \"3PAR_curry\": 0.4821428571428571, \"3P%_diff\": 0.09300000000000003}, {\"Season\": 2013, \"3P_league\": 7.7, \"3PA_league\": 21.5, \"3P%_league\": 0.36, \"FGA_league\": 83.0, \"3P_curry\": 3.3, \"3PA_curry\": 7.9, \"3P%_curry\": 0.424, \"FGA_curry\": 17.7, \"3PAR_league\": 0.25903614457831325, \"3PAR_curry\": 0.44632768361581926, \"3P%_diff\": 0.064}, {\"Season\": 2012, \"3P_league\": 7.2, \"3PA_league\": 20.0, \"3P%_league\": 0.359, \"FGA_league\": 82.0, \"3P_curry\": 3.5, \"3PA_curry\": 7.7, \"3P%_curry\": 0.453, \"FGA_curry\": 17.8, \"3PAR_league\": 0.24390243902439024, \"3PAR_curry\": 0.43258426966292135, \"3P%_diff\": 0.09400000000000003}, {\"Season\": 2011, \"3P_league\": 6.4, \"3PA_league\": 18.4, \"3P%_league\": 0.349, \"FGA_league\": 81.4, \"3P_curry\": 2.1, \"3PA_curry\": 4.7, \"3P%_curry\": 0.455, \"FGA_curry\": 11.4, \"3PAR_league\": 0.226044226044226, \"3PAR_curry\": 0.41228070175438597, \"3P%_diff\": 0.10600000000000004}, {\"Season\": 2010, \"3P_league\": 6.5, \"3PA_league\": 18.0, \"3P%_league\": 0.358, \"FGA_league\": 81.2, \"3P_curry\": 2.0, \"3PA_curry\": 4.6, \"3P%_curry\": 0.442, \"FGA_curry\": 14.2, \"3PAR_league\": 0.22167487684729062, \"3PAR_curry\": 0.323943661971831, \"3P%_diff\": 0.08400000000000002}, {\"Season\": 2009, \"3P_league\": 6.4, \"3PA_league\": 18.1, \"3P%_league\": 0.355, \"FGA_league\": 81.7, \"3P_curry\": 2.1, \"3PA_curry\": 4.8, \"3P%_curry\": 0.437, \"FGA_curry\": 14.3, \"3PAR_league\": 0.2215422276621787, \"3PAR_curry\": 0.3356643356643356, \"3P%_diff\": 0.08200000000000002}]}}, {\"mode\": \"vega-lite\"});\n",
       "</script>"
      ],
      "text/plain": [
       "alt.Chart(...)"
      ]
     },
     "metadata": {},
     "output_type": "display_data"
    }
   ],
   "source": [
    "# Bar chart of the difference in 3-point percentage\n",
    "chart = alt.Chart(merged_df).mark_bar().encode(\n",
    "    x='Season:O',\n",
    "    y=alt.Y('3P%_diff:Q', title='Difference in 3-Point Percentage'),\n",
    "    color=alt.value('purple'),\n",
    "    tooltip=['Season', '3P%_diff']\n",
    ").properties(\n",
    "    title='Difference in 3-Point Percentage (Curry - League)'\n",
    ").interactive()\n",
    "\n",
    "# Save the chart\n",
    "chart.save('difference_in_3_point_percentage_bar_chart.json')\n",
    "\n",
    "# Display the chart\n",
    "chart.display()"
   ]
  },
  {
   "cell_type": "markdown",
   "id": "75e05000-b5af-4a1f-8044-3852a8a5771e",
   "metadata": {},
   "source": [
    "Stephen Curry's exceptional 3-point shooting percentage is even more impressive considering the high volume and difficulty of his self-created shots."
   ]
  }
 ],
 "metadata": {
  "kernelspec": {
   "display_name": "Python 3 (ipykernel)",
   "language": "python",
   "name": "python3"
  },
  "language_info": {
   "codemirror_mode": {
    "name": "ipython",
    "version": 3
   },
   "file_extension": ".py",
   "mimetype": "text/x-python",
   "name": "python",
   "nbconvert_exporter": "python",
   "pygments_lexer": "ipython3",
   "version": "3.11.10"
  }
 },
 "nbformat": 4,
 "nbformat_minor": 5
}
